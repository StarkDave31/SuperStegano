{
 "cells": [
  {
   "cell_type": "code",
   "execution_count": 17,
   "metadata": {},
   "outputs": [],
   "source": [
    "from typing import Iterable\n",
    "import numpy as np\n",
    "from PIL import Image\n",
    "import sys\n",
    "import pandas as pd\n",
    "np.set_printoptions(threshold=np.inf)\n",
    "import cv2 as cv"
   ]
  },
  {
   "cell_type": "code",
   "execution_count": 18,
   "metadata": {},
   "outputs": [],
   "source": [
    "def bits_provider(message) -> Iterable[int]:\n",
    "    for char in message:\n",
    "        ascii_value = ord(char)\n",
    "        for bit_position in range(8):\n",
    "            power = 7 - bit_position\n",
    "            yield 1 if ascii_value & (1 << power) else 0"
   ]
  },
  {
   "cell_type": "code",
   "execution_count": 19,
   "metadata": {},
   "outputs": [],
   "source": [
    "def clear_low_order_bits(pixels) -> None:\n",
    "    for row in range(pixels.shape[0]):\n",
    "        for col in range(pixels.shape[1]):\n",
    "            pixels[row, col, 0] &= ~1"
   ]
  },
  {
   "cell_type": "code",
   "execution_count": 79,
   "metadata": {},
   "outputs": [],
   "source": [
    "def create_image(message: str, input_filename, output_filename: str) -> None:\n",
    "    img = Image.open(input_filename)\n",
    "    pixels = np.array(img)\n",
    "    img.close()\n",
    "    clear_low_order_bits(pixels)\n",
    "    if len(message)>50:\n",
    "        mask = 4\n",
    "    else:\n",
    "        mask = 3\n",
    "    print(len(message))\n",
    "    print(mask)\n",
    "    for i, bit in enumerate(bits_provider(message)):\n",
    "        row = i // pixels.shape[1]\n",
    "        col = i % pixels.shape[1]\n",
    "        if pixel5[row][col]:\n",
    "            for j in range(mask):\n",
    "                   pixels[row, col, j] |= bit\n",
    "        else: \n",
    "            pixels[row, col, 0] |= bit\n",
    "    out_img = Image.fromarray(pixels)\n",
    "    out_img.save(output_filename)\n",
    "    out_img.close()"
   ]
  },
  {
   "cell_type": "code",
   "execution_count": 74,
   "metadata": {},
   "outputs": [],
   "source": [
    "def chars_provider(pixel_red_values) -> Iterable[str]:\n",
    "    ascii_value = 0\n",
    "    for i, pixel_red_value in enumerate(pixel_red_values):\n",
    "        ascii_value_bit_position = 7 - i % 8\n",
    "        if pixel_red_value & 1:\n",
    "            ascii_value |= 1 << ascii_value_bit_position\n",
    "        if ascii_value_bit_position == 0:\n",
    "            char: str = chr(ascii_value)\n",
    "            if not char.isprintable() and char != '\\n':\n",
    "                return\n",
    "\n",
    "            yield char\n",
    "\n",
    "            ascii_value = 0\n",
    "            "
   ]
  },
  {
   "cell_type": "code",
   "execution_count": 64,
   "metadata": {},
   "outputs": [],
   "source": [
    "def decode_image(filename: str) -> str:\n",
    "    img = Image.open(filename)\n",
    "    result = ''.join(chars_provider(img.getdata(band=0)))\n",
    "    img.close()\n",
    "    return result"
   ]
  },
  {
   "cell_type": "code",
   "execution_count": 65,
   "metadata": {},
   "outputs": [],
   "source": [
    "df = pd.read_excel ('finData.xlsx') \n",
    "pixel5= np.array(df)"
   ]
  },
  {
   "cell_type": "code",
   "execution_count": 80,
   "metadata": {},
   "outputs": [
    {
     "name": "stdout",
     "output_type": "stream",
     "text": [
      "5\n",
      "3\n"
     ]
    }
   ],
   "source": [
    "message = 'Hwllo'#input(\"Enter the message to encode=>  \")\n",
    "source = 'lena.png'#input(\"Enter the file name you want to Encode?=>  \")\n",
    "destination = 'lenaout.png'#input(\"Enter the output file name?=>  \")\n",
    "create_image(message, source, destination)"
   ]
  },
  {
   "cell_type": "code",
   "execution_count": 58,
   "metadata": {},
   "outputs": [
    {
     "name": "stdout",
     "output_type": "stream",
     "text": [
      "Enter file name?=>lenaout.png\n"
     ]
    },
    {
     "data": {
      "text/plain": [
       "'Lorem ipsum dolor sit amet consectetur, adipisicing elit. Commodi sit provident culpa rerum reiciendis. Nam laboriosam sunt vitae sint, odio repellat explicabo earum soluta eligendi, quibusdam molestiae rem culpa. Numquam, molestias. Eveniet sunt dolores recusandae eum amet maxime ex soluta! Placeat, velit? Aperiam aspernatur eligendi voluptas, reprehenderit odit eum sint?'"
      ]
     },
     "execution_count": 58,
     "metadata": {},
     "output_type": "execute_result"
    }
   ],
   "source": [
    "file_name= input(\"Enter file name?=>\")\n",
    "decode_image(file_name)"
   ]
  },
  {
   "cell_type": "code",
   "execution_count": null,
   "metadata": {},
   "outputs": [],
   "source": []
  }
 ],
 "metadata": {
  "kernelspec": {
   "display_name": "Python 3",
   "language": "python",
   "name": "python3"
  },
  "language_info": {
   "codemirror_mode": {
    "name": "ipython",
    "version": 3
   },
   "file_extension": ".py",
   "mimetype": "text/x-python",
   "name": "python",
   "nbconvert_exporter": "python",
   "pygments_lexer": "ipython3",
   "version": "3.8.8"
  }
 },
 "nbformat": 4,
 "nbformat_minor": 2
}
